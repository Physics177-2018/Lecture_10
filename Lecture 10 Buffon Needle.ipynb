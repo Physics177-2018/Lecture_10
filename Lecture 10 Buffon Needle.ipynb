{
 "cells": [
  {
   "cell_type": "markdown",
   "metadata": {},
   "source": [
    "# Lec 10: Buffon's Needle"
   ]
  },
  {
   "cell_type": "code",
   "execution_count": 19,
   "metadata": {},
   "outputs": [
    {
     "name": "stdout",
     "output_type": "stream",
     "text": [
      "0.625\n",
      "0.6366197723675814\n"
     ]
    }
   ],
   "source": [
    "import numpy as np\n",
    "import random\n",
    "from math import pi, cos\n",
    "\n",
    "a = 1 # length of needle (in units of floor crack spacing)\n",
    "N = 1000\n",
    "\n",
    "Nhits = 0\n",
    "for i in range(N):\n",
    "    x_center = random.uniform(0,1)\n",
    "    theta = random.uniform(0,2*pi)\n",
    "    if (x_center + a/2*cos(theta) > 1) or (x_center - a/2*cos(theta) > 1):\n",
    "        Nhits += 1\n",
    "    elif (x_center + a/2*cos(theta) < 0) or (x_center - a/2*cos(theta) < 0):\n",
    "        Nhits += 1\n",
    "        \n",
    "print(Nhits/N)\n",
    "print(2/pi)"
   ]
  },
  {
   "cell_type": "markdown",
   "metadata": {},
   "source": [
    "Correct answer: $\\langle N_\\text{hit}\\rangle = \\frac{a}{b}\\frac{2}{\\pi}$"
   ]
  },
  {
   "cell_type": "markdown",
   "metadata": {},
   "source": [
    "How would we do it if we didn't know what $\\pi$ is?"
   ]
  },
  {
   "cell_type": "code",
   "execution_count": 47,
   "metadata": {},
   "outputs": [
    {
     "name": "stdout",
     "output_type": "stream",
     "text": [
      "0.6284\n",
      "0.6366197723675814\n"
     ]
    }
   ],
   "source": [
    "from math import sqrt\n",
    "\n",
    "a = 1\n",
    "N = 10000\n",
    "\n",
    "Nhits = 0\n",
    "for i in range(N):\n",
    "    x = random.uniform(0,1) # only focus on upper right quadrant\n",
    "    y = random.uniform(0,1)\n",
    "#     print(x)\n",
    "#     print(y)\n",
    "    while x**2 + y**2 > 1:\n",
    "        # print(\"bad value, remove from statistics\") ## do you see why?\n",
    "        x = random.uniform(0,1)\n",
    "        y = random.uniform(0,1)\n",
    "    x_center = random.uniform(.5,1)\n",
    "    halfacos = (a/2)*x/sqrt(x**2+y**2)\n",
    "    if x_center + halfacos > 1:\n",
    "        Nhits += 1\n",
    "        \n",
    "print(Nhits/N)\n",
    "print(2/pi)"
   ]
  },
  {
   "cell_type": "markdown",
   "metadata": {},
   "source": [
    "## Markov Chain Monte Carlo for the marble game"
   ]
  },
  {
   "cell_type": "code",
   "execution_count": 116,
   "metadata": {},
   "outputs": [
    {
     "name": "stdout",
     "output_type": "stream",
     "text": [
      "0.797454\n"
     ]
    }
   ],
   "source": [
    "N = 500000\n",
    "side = 100\n",
    "rad2 = (side/2)**2\n",
    "x = 0\n",
    "y = 0\n",
    "Nhit = 0\n",
    "\n",
    "for i in range(N):\n",
    "    dx = random.uniform(-1,1) \n",
    "    dy = random.uniform(-1,1)\n",
    "    if abs(x+dx) < side/2 and abs(y+dy) < side/2:\n",
    "        x += dx\n",
    "        y += dy\n",
    "    if x**2 + y**2 < rad2:\n",
    "        Nhit += 1\n",
    "        \n",
    "print(Nhit/N)"
   ]
  },
  {
   "cell_type": "code",
   "execution_count": 120,
   "metadata": {},
   "outputs": [
    {
     "name": "stdout",
     "output_type": "stream",
     "text": [
      "0.119566\n"
     ]
    }
   ],
   "source": [
    "# THIS IS THE WRONG WAY\n",
    "N = 500000\n",
    "side = 100\n",
    "rad2 = (side/2)**2\n",
    "x = 0\n",
    "y = 0\n",
    "Nhit = 0\n",
    "\n",
    "for i in range(N):\n",
    "    dx = random.uniform(-1,1) \n",
    "    dy = random.uniform(-1,1)\n",
    "    while abs(x+dx) > side/2 and abs(y+dy) > side/2:\n",
    "        dx = random.uniform(-1,1) \n",
    "        dy = random.uniform(-1,1)\n",
    "    x += dx\n",
    "    y += dy\n",
    "    if x**2 + y**2 < rad2:\n",
    "        Nhit += 1\n",
    "        \n",
    "print(Nhit/N)"
   ]
  },
  {
   "cell_type": "code",
   "execution_count": 119,
   "metadata": {},
   "outputs": [
    {
     "name": "stdout",
     "output_type": "stream",
     "text": [
      "0.7853981633974483\n"
     ]
    }
   ],
   "source": [
    "# Correct answer\n",
    "print(pi/4)"
   ]
  },
  {
   "cell_type": "code",
   "execution_count": null,
   "metadata": {},
   "outputs": [],
   "source": []
  }
 ],
 "metadata": {
  "kernelspec": {
   "display_name": "Python 3",
   "language": "python",
   "name": "python3"
  },
  "language_info": {
   "codemirror_mode": {
    "name": "ipython",
    "version": 3
   },
   "file_extension": ".py",
   "mimetype": "text/x-python",
   "name": "python",
   "nbconvert_exporter": "python",
   "pygments_lexer": "ipython3",
   "version": "3.6.3"
  }
 },
 "nbformat": 4,
 "nbformat_minor": 2
}
