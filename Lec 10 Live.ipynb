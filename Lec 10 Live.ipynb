{
 "cells": [
  {
   "cell_type": "markdown",
   "metadata": {},
   "source": [
    "# Buffon's Needle"
   ]
  },
  {
   "cell_type": "code",
   "execution_count": 7,
   "metadata": {},
   "outputs": [],
   "source": [
    "a = 1 # length of needle\n",
    "N = 1000\n",
    "\n",
    "import random\n",
    "from math import pi, cos\n",
    "\n",
    "\n",
    "Nhits = 0\n",
    "for i in range(N):\n",
    "    theta = random.uniform(0,2*pi)\n",
    "    x_center = random.uniform(0,1)\n",
    "    if (x_center + (a/2)*cos(theta) > 1) or (x_center - (a/2)*cos(theta) > 1):\n",
    "#     if abs((a/2)*cos(theta)) > 1-x_center:\n",
    "        Nhits += 1\n",
    "    elif (x_center + (a/2)*cos(theta) < 0) or (x_center - (a/2)*cos(theta) < 0):\n",
    "        Nhits += 1"
   ]
  },
  {
   "cell_type": "code",
   "execution_count": 8,
   "metadata": {},
   "outputs": [
    {
     "name": "stdout",
     "output_type": "stream",
     "text": [
      "0.646\n",
      "0.6366197723675814\n"
     ]
    }
   ],
   "source": [
    "print(Nhits/N)\n",
    "print(2/pi)"
   ]
  },
  {
   "cell_type": "code",
   "execution_count": null,
   "metadata": {},
   "outputs": [],
   "source": []
  }
 ],
 "metadata": {
  "kernelspec": {
   "display_name": "Python 3",
   "language": "python",
   "name": "python3"
  },
  "language_info": {
   "codemirror_mode": {
    "name": "ipython",
    "version": 3
   },
   "file_extension": ".py",
   "mimetype": "text/x-python",
   "name": "python",
   "nbconvert_exporter": "python",
   "pygments_lexer": "ipython3",
   "version": "3.6.3"
  }
 },
 "nbformat": 4,
 "nbformat_minor": 2
}
